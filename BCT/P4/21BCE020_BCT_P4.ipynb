{
 "cells": [
  {
   "cell_type": "code",
   "execution_count": 3,
   "metadata": {},
   "outputs": [
    {
     "name": "stdout",
     "output_type": "stream",
     "text": [
      "General 0 (Is traitor?: True) --> retreat\n",
      "General 1 (Is traitor?: True) --> retreat\n",
      "General 2 (Is traitor?: False) --> attack\n",
      "General 3 (Is traitor?: False) --> attack\n",
      "General 4 (Is traitor?: False) --> attack\n",
      "\n",
      "Final Conclusion:  ATTACK.\n",
      "\n",
      "Traitors: [0, 1]\n"
     ]
    }
   ],
   "source": [
    "import threading\n",
    "from collections import defaultdict, Counter\n",
    "\n",
    "class General(threading.Thread):\n",
    "    def __init__(self, general_id, num_generals, default_decision, traitor=False):\n",
    "        super().__init__()\n",
    "        self.general_id = general_id\n",
    "        self.num_generals = num_generals\n",
    "        self.traitor = traitor\n",
    "        self.default_decision = default_decision\n",
    "        self.decision = self.opposite_decision() if traitor else default_decision\n",
    "        self.received_messages = defaultdict(list)\n",
    "        self.final_decision = None\n",
    "\n",
    "    def opposite_decision(self):\n",
    "        return \"retreat\" if self.default_decision == \"attack\" else \"attack\"\n",
    "\n",
    "    def run(self):\n",
    "        for round_num in range(self.num_generals - 1):\n",
    "            self.broadcast_decision(round_num)\n",
    "        self.final_decision = self.consensus()\n",
    "        print(f\"General {self.general_id} (Is traitor?: {self.traitor}) --> {self.final_decision}\")\n",
    "\n",
    "    def broadcast_decision(self, round_num):\n",
    "        for i in range(self.num_generals):\n",
    "            if i != self.general_id:\n",
    "                decision = self.opposite_decision() if self.traitor else self.decision\n",
    "                self.received_messages[i].append(decision)\n",
    "\n",
    "    def consensus(self):\n",
    "        # count majority decision in final round\n",
    "        final_decisions = [msg[-1] for msg in self.received_messages.values()]\n",
    "        return max(set(final_decisions), key=final_decisions.count)\n",
    "\n",
    "def final_conclusion(generals):\n",
    "    decisions = [general.final_decision for general in generals]\n",
    "    majority_decision, count = Counter(decisions).most_common(1)[0]\n",
    "    print(f\"\\nFinal Conclusion:  {majority_decision.upper()}.\\n\")\n",
    "    \n",
    "    # list traitors if final decision differs from majority\n",
    "    traitors = [general.general_id for general in generals if general.traitor]\n",
    "    print(f\"Traitors: {traitors if traitors else 'none detected'}\")\n",
    "\n",
    "\n",
    "num_generals = 5\n",
    "num_traitors = 2\n",
    "default_decision = \"attack\"  # default decision for all generals\n",
    "generals = [\n",
    "    General(general_id=i, num_generals=num_generals, default_decision=default_decision, traitor=(i < num_traitors))\n",
    "    for i in range(num_generals)\n",
    "]\n",
    "\n",
    "for general in generals:\n",
    "    general.start()\n",
    "\n",
    "for general in generals:\n",
    "    general.join()\n",
    "\n",
    "final_conclusion(generals)\n"
   ]
  }
 ],
 "metadata": {
  "kernelspec": {
   "display_name": "Python 3",
   "language": "python",
   "name": "python3"
  },
  "language_info": {
   "codemirror_mode": {
    "name": "ipython",
    "version": 3
   },
   "file_extension": ".py",
   "mimetype": "text/x-python",
   "name": "python",
   "nbconvert_exporter": "python",
   "pygments_lexer": "ipython3",
   "version": "3.11.4"
  }
 },
 "nbformat": 4,
 "nbformat_minor": 2
}
