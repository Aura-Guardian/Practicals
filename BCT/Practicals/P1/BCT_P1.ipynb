{
 "cells": [
  {
   "cell_type": "code",
   "execution_count": 1,
   "metadata": {},
   "outputs": [],
   "source": [
    "import numpy as np\n",
    "import hashlib\n",
    "from Crypto.Hash import SHA256\n",
    "from Crypto.Hash import SHA512\n",
    "from Crypto.Hash import BLAKE2s\n",
    "from Crypto.Hash import MD5\n",
    "from Crypto.Hash import keccak"
   ]
  },
  {
   "cell_type": "code",
   "execution_count": 3,
   "metadata": {},
   "outputs": [
    {
     "name": "stdout",
     "output_type": "stream",
     "text": [
      "ca978112ca1bbdcafac231b39a23dc4da786eff8147c4e72b9807785afee48bb\n",
      "1f40fc92da241694750979ee6cf582f2d5d7d28e18335de05abc54d0560e0f5302860c652bf08d560252aa5e74210546f369fbbbce8c12cfc7957b2652fe9a75\n",
      "4a0d129873403037c2cd9b9048203687f6233fb6738956e0349bd4320fec3e90\n",
      "0cc175b9c0f1b6a831c399e269772661\n",
      "9c46dbec5d03f74352cc4a4da354b4e9796887eeb66ac292617692e765dbe400352559b16229f97b27614b51dbfbbb14613f2c10350435a8feaf53f73ba01c7c\n"
     ]
    }
   ],
   "source": [
    "# Hashing\n",
    "test = b'a'\n",
    "hash_object1 = SHA256.new(data=test)\n",
    "print(hash_object1.hexdigest())\n",
    "hash_object2 = SHA512.new(data=test)\n",
    "print(hash_object2.hexdigest())\n",
    "hash_object3 = BLAKE2s.new(digest_bits=256)\n",
    "hash_object3.update(test)\n",
    "print(hash_object3.hexdigest())\n",
    "hash_object4 = MD5.new()\n",
    "hash_object4.update(test)\n",
    "print(hash_object4.hexdigest())\n",
    "hash_object5 = keccak.new(digest_bits=512)\n",
    "hash_object5.update(test)\n",
    "print(hash_object5.hexdigest())"
   ]
  },
  {
   "cell_type": "code",
   "execution_count": 12,
   "metadata": {},
   "outputs": [
    {
     "name": "stdout",
     "output_type": "stream",
     "text": [
      "16955237001963240173058271559858726497\n"
     ]
    }
   ],
   "source": [
    "def hex_to_decimal(hex_str):\n",
    "    return int(hex_str, 16)\n",
    "\n",
    "decimal_output = hex_to_decimal(hash_object4.hexdigest() )"
   ]
  },
  {
   "cell_type": "code",
   "execution_count": 13,
   "metadata": {},
   "outputs": [
    {
     "name": "stdout",
     "output_type": "stream",
     "text": [
      "Encrypted message is 192\n",
      "Decrypted message is 609\n"
     ]
    }
   ],
   "source": [
    "# RSA\n",
    "from math import gcd\n",
    "def RSA(p: int, q: int, message: int):\n",
    "    n = p * q\n",
    "    t = (p - 1) * (q - 1)\n",
    "    for i in range(2, t):\n",
    "        if gcd(i, t) == 1:\n",
    "            e = i\n",
    "            break\n",
    "    j = 0\n",
    "    while True:\n",
    "        if (j * e) % t == 1:\n",
    "            d = j\n",
    "            break\n",
    "        j += 1\n",
    "    ct = (message ** e) % n\n",
    "    print(f\"Encrypted message is {ct}\")\n",
    "    mes = (ct ** d) % n\n",
    "    print(f\"Decrypted message is {mes}\")\n",
    "RSA(p=53, q=59, message=decimal_output)"
   ]
  },
  {
   "cell_type": "code",
   "execution_count": null,
   "metadata": {},
   "outputs": [],
   "source": [
    "def compute_Qn(p, q):\n",
    "    n = p * q;\n",
    "    Qn = (p - 1) * (q - 1);\n",
    "    pair = make_pair(n, Qn);\n",
    "    return pair;\n",
    "\n",
    "def compute_d(Qn, e, T1, T2):\n",
    "    while(e > 0):\n",
    "        Q = Qn / e;\n",
    "        R = Qn % e;\n",
    "        T = T1 - (T2 * Q);\n",
    "        Qn = e;\n",
    "        e = R;\n",
    "        T1 = T2;\n",
    "        T2 = T;\n",
    "    return T1;\n",
    "\n",
    "def encrypt(PT, e, n):\n",
    "    # // return int(pow(M, e)) % n;\n",
    "    vector<int> CT;\n",
    "    for (int M : PT) {\n",
    "        int val = int(pow(M, e)) % n;\n",
    "        CT.push_back(val);\n",
    "    }\n",
    "    return CT;\n",
    "}\n",
    "\n",
    "vector<int> decrypt(vector<int> CT, int d, int n){\n",
    "    // return int(pow(C, d)) % n;\n",
    "    vector<int> DT;\n",
    "    for (int C : CT) {\n",
    "        int val = int(pow(C, d)) % n;\n",
    "        DT.push_back(val);\n",
    "    }\n",
    "    return DT;\n",
    "}"
   ]
  },
  {
   "cell_type": "code",
   "execution_count": null,
   "metadata": {},
   "outputs": [],
   "source": []
  }
 ],
 "metadata": {
  "kernelspec": {
   "display_name": "Python 3",
   "language": "python",
   "name": "python3"
  },
  "language_info": {
   "codemirror_mode": {
    "name": "ipython",
    "version": 3
   },
   "file_extension": ".py",
   "mimetype": "text/x-python",
   "name": "python",
   "nbconvert_exporter": "python",
   "pygments_lexer": "ipython3",
   "version": "3.11.4"
  }
 },
 "nbformat": 4,
 "nbformat_minor": 2
}
