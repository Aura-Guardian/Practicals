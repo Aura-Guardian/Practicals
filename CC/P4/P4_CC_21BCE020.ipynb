{
 "cells": [
  {
   "cell_type": "markdown",
   "metadata": {},
   "source": [
    "Compiler Construction\n",
    "\n",
    "Practical 4: Left-Recursion\n",
    "\n",
    "21BCE020"
   ]
  },
  {
   "cell_type": "code",
   "execution_count": 1,
   "metadata": {},
   "outputs": [
    {
     "name": "stdout",
     "output_type": "stream",
     "text": [
      "\n",
      "First Sets:\n",
      "FIRST(S): { #, e }\n",
      "FIRST(S): { #, e }\n",
      "FIRST(S): { #, e }\n",
      "FIRST(B): { #, e }\n",
      "FIRST(C): { e }\n",
      "\n",
      "Follow Sets:\n",
      "FOLLOW(S): { a, e, d, $ }\n",
      "FOLLOW(S): { a, e, d, $ }\n",
      "FOLLOW(S): { a, e, d, $ }\n",
      "FOLLOW(B): { a }\n",
      "FOLLOW(C): { a, d, e }\n"
     ]
    }
   ],
   "source": [
    "# productions = [\n",
    "#     \"S=AB\",\n",
    "#     \"A=aA\",\n",
    "#     \"A=#\",\n",
    "#     \"B=b\"\n",
    "# ]\n",
    "\n",
    "productions = [\n",
    "    \"S=Ba\",\n",
    "    \"S=#\",\n",
    "    \"S=Cd\",\n",
    "    \"B=SC\"\n",
    "    \"B=e\",\n",
    "    \"C=eS\"\n",
    "]\n",
    "num_productions = len(productions)\n",
    "\n",
    "def find_first(symbol, visited, first_set):\n",
    "    if symbol.islower() or symbol == '#':\n",
    "        if symbol not in first_set:\n",
    "            first_set.add(symbol)\n",
    "        return\n",
    "    if visited[ord(symbol) - ord('A')]:\n",
    "        return\n",
    "    visited[ord(symbol) - ord('A')] = True\n",
    "    for production in productions:\n",
    "        if production[0] == symbol:\n",
    "            first_symbol = production[2]\n",
    "            if first_symbol.islower() or first_symbol == '#':\n",
    "                if first_symbol not in first_set:\n",
    "                    first_set.add(first_symbol)\n",
    "            else:\n",
    "                find_first(first_symbol, visited, first_set)\n",
    "\n",
    "def find_follow(symbol, visited, follow_set):\n",
    "    if symbol == productions[0][0]:\n",
    "        follow_set.add('$')\n",
    "\n",
    "    for production in productions:\n",
    "        for i in range(2, len(production)):\n",
    "            if production[i] == symbol:\n",
    "                if i + 1 < len(production):\n",
    "                    next_symbol = production[i + 1]\n",
    "                    temp_first = set()\n",
    "                    find_first(next_symbol, [False] * 26, temp_first)\n",
    "                    \n",
    "                    for item in temp_first:\n",
    "                        if item != '#':\n",
    "                            follow_set.add(item)\n",
    "                    \n",
    "                    if '#' in temp_first:\n",
    "                        if production[0] != symbol and not visited[ord(production[0]) - ord('A')]:\n",
    "                            find_follow(production[0], visited, follow_set)\n",
    "                else:\n",
    "                    if production[0] != symbol and not visited[ord(production[0]) - ord('A')]:\n",
    "                        find_follow(production[0], visited, follow_set)\n",
    "\n",
    "def main():\n",
    "    print(\"\\nFirst Sets:\")\n",
    "    for production in productions:\n",
    "        first_set = set()\n",
    "        find_first(production[0], [False] * 26, first_set)\n",
    "        print(f\"FIRST({production[0]}): {{ {', '.join(first_set)} }}\")\n",
    "\n",
    "    print(\"\\nFollow Sets:\")\n",
    "    for production in productions:\n",
    "        follow_set = set()\n",
    "        find_follow(production[0], [False] * 26, follow_set)\n",
    "        print(f\"FOLLOW({production[0]}): {{ {', '.join(follow_set)} }}\")\n",
    "\n",
    "if __name__ == \"__main__\":\n",
    "    main()"
   ]
  }
 ],
 "metadata": {
  "kernelspec": {
   "display_name": "Python 3",
   "language": "python",
   "name": "python3"
  },
  "language_info": {
   "codemirror_mode": {
    "name": "ipython",
    "version": 3
   },
   "file_extension": ".py",
   "mimetype": "text/x-python",
   "name": "python",
   "nbconvert_exporter": "python",
   "pygments_lexer": "ipython3",
   "version": "3.11.4"
  }
 },
 "nbformat": 4,
 "nbformat_minor": 2
}
