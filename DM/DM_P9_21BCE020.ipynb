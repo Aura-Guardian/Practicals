{
 "cells": [
  {
   "cell_type": "markdown",
   "metadata": {},
   "source": [
    "### K-Means Algorithm\n",
    "\n",
    "---"
   ]
  },
  {
   "cell_type": "code",
   "execution_count": 3,
   "metadata": {},
   "outputs": [],
   "source": [
    "import numpy as np"
   ]
  },
  {
   "cell_type": "code",
   "execution_count": 7,
   "metadata": {},
   "outputs": [
    {
     "name": "stdout",
     "output_type": "stream",
     "text": [
      "Final Cluster Centers:\n",
      "Cluster A: [2.33333333 2.33333333]\n",
      "Cluster B: [4.5 8.5]\n",
      "Cluster C: [8.  3.5]\n",
      "\n",
      "Points in Each Cluster:\n",
      "Cluster A:\n",
      "[1 2]\n",
      "[2 3]\n",
      "[4 2]\n",
      "Cluster B:\n",
      "[5 8]\n",
      "[4 9]\n",
      "Cluster C:\n",
      "[9 4]\n",
      "[10  1]\n",
      "[7 5]\n",
      "[6 4]\n"
     ]
    }
   ],
   "source": [
    "points = {\n",
    "    'A': np.array([[1, 2], [2, 3], [9, 4], [10, 1]]),\n",
    "    'B': np.array([[5, 8], [7, 5], [6, 4]]),\n",
    "    'C': np.array([[4, 2], [4, 9]])\n",
    "}\n",
    "\n",
    "\n",
    "centers = {\n",
    "    'A': np.array([1, 2]),\n",
    "    'B': np.array([5, 8]),\n",
    "    'C': np.array([4, 2])\n",
    "}\n",
    "\n",
    "def euclidean_distance(point1, point2):\n",
    "    return np.linalg.norm(point1 - point2)\n",
    "\n",
    "def k_means(points, centers, num_clusters=2, max_iterations=100):\n",
    "    for _ in range(max_iterations):\n",
    "        clusters = {key: [] for key in centers.keys()}\n",
    "        for point_type, point_list in points.items():\n",
    "            for point in point_list:\n",
    "                min_distance = float('inf')\n",
    "                closest_center = None\n",
    "                for center_type, center_point in centers.items():\n",
    "                    distance = euclidean_distance(point, center_point)\n",
    "                    if distance < min_distance:\n",
    "                        min_distance = distance\n",
    "                        closest_center = center_type\n",
    "                clusters[closest_center].append(point)\n",
    "\n",
    "        new_centers = {}\n",
    "        for center_type, cluster_points in clusters.items():\n",
    "            if len(cluster_points) > 0:\n",
    "                new_centers[center_type] = np.mean(cluster_points, axis=0)\n",
    "            else:\n",
    "                new_centers[center_type] = centers[center_type]\n",
    "\n",
    "        if np.allclose(list(centers.values()), list(new_centers.values()), atol=1e-3):\n",
    "            break\n",
    "\n",
    "        centers = new_centers\n",
    "\n",
    "    return centers, clusters\n",
    "\n",
    "final_centers, final_clusters = k_means(points, centers)\n",
    "\n",
    "print(\"Final Cluster Centers:\")\n",
    "for center_type, center_point in final_centers.items():\n",
    "    print(f\"Cluster {center_type}: {center_point}\")\n",
    "\n",
    "print(\"\\nPoints in Each Cluster:\")\n",
    "for cluster_type, cluster_points in final_clusters.items():\n",
    "    print(f\"Cluster {cluster_type}:\")\n",
    "    for point in cluster_points:\n",
    "        print(point)"
   ]
  }
 ],
 "metadata": {
  "kernelspec": {
   "display_name": "Python 3",
   "language": "python",
   "name": "python3"
  },
  "language_info": {
   "codemirror_mode": {
    "name": "ipython",
    "version": 3
   },
   "file_extension": ".py",
   "mimetype": "text/x-python",
   "name": "python",
   "nbconvert_exporter": "python",
   "pygments_lexer": "ipython3",
   "version": "3.11.4"
  }
 },
 "nbformat": 4,
 "nbformat_minor": 2
}
