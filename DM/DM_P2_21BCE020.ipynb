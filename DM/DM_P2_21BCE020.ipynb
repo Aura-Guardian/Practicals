{
 "cells": [
  {
   "cell_type": "markdown",
   "metadata": {},
   "source": [
    "### Statistical Analysis\n",
    "---"
   ]
  },
  {
   "cell_type": "code",
   "execution_count": 1,
   "metadata": {},
   "outputs": [
    {
     "data": {
      "text/html": [
       "<div>\n",
       "<style scoped>\n",
       "    .dataframe tbody tr th:only-of-type {\n",
       "        vertical-align: middle;\n",
       "    }\n",
       "\n",
       "    .dataframe tbody tr th {\n",
       "        vertical-align: top;\n",
       "    }\n",
       "\n",
       "    .dataframe thead th {\n",
       "        text-align: right;\n",
       "    }\n",
       "</style>\n",
       "<table border=\"1\" class=\"dataframe\">\n",
       "  <thead>\n",
       "    <tr style=\"text-align: right;\">\n",
       "      <th></th>\n",
       "      <th>date</th>\n",
       "      <th>quarter</th>\n",
       "      <th>department</th>\n",
       "      <th>day</th>\n",
       "      <th>team</th>\n",
       "      <th>targeted_productivity</th>\n",
       "      <th>smv</th>\n",
       "      <th>wip</th>\n",
       "      <th>over_time</th>\n",
       "      <th>incentive</th>\n",
       "      <th>idle_time</th>\n",
       "      <th>idle_men</th>\n",
       "      <th>no_of_style_change</th>\n",
       "      <th>no_of_workers</th>\n",
       "      <th>actual_productivity</th>\n",
       "    </tr>\n",
       "  </thead>\n",
       "  <tbody>\n",
       "    <tr>\n",
       "      <th>0</th>\n",
       "      <td>1/1/2015</td>\n",
       "      <td>Quarter1</td>\n",
       "      <td>sweing</td>\n",
       "      <td>Thursday</td>\n",
       "      <td>8</td>\n",
       "      <td>0.80</td>\n",
       "      <td>26.16</td>\n",
       "      <td>1108.0</td>\n",
       "      <td>7080</td>\n",
       "      <td>98</td>\n",
       "      <td>0.0</td>\n",
       "      <td>0</td>\n",
       "      <td>0</td>\n",
       "      <td>59.0</td>\n",
       "      <td>0.940725</td>\n",
       "    </tr>\n",
       "    <tr>\n",
       "      <th>1</th>\n",
       "      <td>1/1/2015</td>\n",
       "      <td>Quarter1</td>\n",
       "      <td>finishing</td>\n",
       "      <td>Thursday</td>\n",
       "      <td>1</td>\n",
       "      <td>0.75</td>\n",
       "      <td>3.94</td>\n",
       "      <td>NaN</td>\n",
       "      <td>960</td>\n",
       "      <td>0</td>\n",
       "      <td>0.0</td>\n",
       "      <td>0</td>\n",
       "      <td>0</td>\n",
       "      <td>8.0</td>\n",
       "      <td>0.886500</td>\n",
       "    </tr>\n",
       "    <tr>\n",
       "      <th>2</th>\n",
       "      <td>1/1/2015</td>\n",
       "      <td>Quarter1</td>\n",
       "      <td>sweing</td>\n",
       "      <td>Thursday</td>\n",
       "      <td>11</td>\n",
       "      <td>0.80</td>\n",
       "      <td>11.41</td>\n",
       "      <td>968.0</td>\n",
       "      <td>3660</td>\n",
       "      <td>50</td>\n",
       "      <td>0.0</td>\n",
       "      <td>0</td>\n",
       "      <td>0</td>\n",
       "      <td>30.5</td>\n",
       "      <td>0.800570</td>\n",
       "    </tr>\n",
       "    <tr>\n",
       "      <th>3</th>\n",
       "      <td>1/1/2015</td>\n",
       "      <td>Quarter1</td>\n",
       "      <td>sweing</td>\n",
       "      <td>Thursday</td>\n",
       "      <td>12</td>\n",
       "      <td>0.80</td>\n",
       "      <td>11.41</td>\n",
       "      <td>968.0</td>\n",
       "      <td>3660</td>\n",
       "      <td>50</td>\n",
       "      <td>0.0</td>\n",
       "      <td>0</td>\n",
       "      <td>0</td>\n",
       "      <td>30.5</td>\n",
       "      <td>0.800570</td>\n",
       "    </tr>\n",
       "    <tr>\n",
       "      <th>4</th>\n",
       "      <td>1/1/2015</td>\n",
       "      <td>Quarter1</td>\n",
       "      <td>sweing</td>\n",
       "      <td>Thursday</td>\n",
       "      <td>6</td>\n",
       "      <td>0.80</td>\n",
       "      <td>25.90</td>\n",
       "      <td>1170.0</td>\n",
       "      <td>1920</td>\n",
       "      <td>50</td>\n",
       "      <td>0.0</td>\n",
       "      <td>0</td>\n",
       "      <td>0</td>\n",
       "      <td>56.0</td>\n",
       "      <td>0.800382</td>\n",
       "    </tr>\n",
       "  </tbody>\n",
       "</table>\n",
       "</div>"
      ],
      "text/plain": [
       "       date   quarter  department       day  team  targeted_productivity  \\\n",
       "0  1/1/2015  Quarter1      sweing  Thursday     8                   0.80   \n",
       "1  1/1/2015  Quarter1  finishing   Thursday     1                   0.75   \n",
       "2  1/1/2015  Quarter1      sweing  Thursday    11                   0.80   \n",
       "3  1/1/2015  Quarter1      sweing  Thursday    12                   0.80   \n",
       "4  1/1/2015  Quarter1      sweing  Thursday     6                   0.80   \n",
       "\n",
       "     smv     wip  over_time  incentive  idle_time  idle_men  \\\n",
       "0  26.16  1108.0       7080         98        0.0         0   \n",
       "1   3.94     NaN        960          0        0.0         0   \n",
       "2  11.41   968.0       3660         50        0.0         0   \n",
       "3  11.41   968.0       3660         50        0.0         0   \n",
       "4  25.90  1170.0       1920         50        0.0         0   \n",
       "\n",
       "   no_of_style_change  no_of_workers  actual_productivity  \n",
       "0                   0           59.0             0.940725  \n",
       "1                   0            8.0             0.886500  \n",
       "2                   0           30.5             0.800570  \n",
       "3                   0           30.5             0.800570  \n",
       "4                   0           56.0             0.800382  "
      ]
     },
     "execution_count": 1,
     "metadata": {},
     "output_type": "execute_result"
    }
   ],
   "source": [
    "import pandas as pd\n",
    "import collections\n",
    "import matplotlib.pyplot as plt\n",
    "from scipy.stats import skew \n",
    "\n",
    "\n",
    "data = pd.read_csv('garments_worker_productivity.csv')\n",
    "data.head()"
   ]
  },
  {
   "cell_type": "markdown",
   "metadata": {},
   "source": [
    "##### Features selected are as follows:\n",
    "- targeted_productivity\n",
    "- actual_productivity\n",
    "- over_time\n",
    "- incentive\n",
    "\n",
    "---"
   ]
  },
  {
   "cell_type": "code",
   "execution_count": 2,
   "metadata": {},
   "outputs": [],
   "source": [
    "tp_data = data['targeted_productivity']\n",
    "ap_data = data['actual_productivity']\n",
    "ot_data = data['over_time']\n",
    "inc_data = data['incentive']"
   ]
  },
  {
   "cell_type": "code",
   "execution_count": 3,
   "metadata": {},
   "outputs": [],
   "source": [
    "tp_len = len(tp_data)\n",
    "ap_len = len(ap_data)\n",
    "ot_len = len(ot_data)\n",
    "inc_len = len(inc_data)"
   ]
  },
  {
   "cell_type": "code",
   "execution_count": 4,
   "metadata": {},
   "outputs": [],
   "source": [
    "tp_sum = sum(tp_data)\n",
    "ap_sum = sum(ap_data)\n",
    "ot_sum = sum(ot_data)\n",
    "inc_sum = sum(inc_data)"
   ]
  },
  {
   "cell_type": "code",
   "execution_count": 5,
   "metadata": {},
   "outputs": [
    {
     "name": "stdout",
     "output_type": "stream",
     "text": [
      "Mean of targeted_productivity:  0.7296324143692557\n",
      "Mean of actual_productivity:  0.7350910969791159\n",
      "Mean of over_time:  4567.460317460317\n",
      "Mean of incentive:  38.21052631578947\n"
     ]
    }
   ],
   "source": [
    "# Mean\n",
    "def mean(data_sum, data_len):\n",
    "    data_mean = data_sum/data_len\n",
    "    return data_mean\n",
    "\n",
    "print('Mean of targeted_productivity: ', mean(tp_sum, tp_len))\n",
    "print('Mean of actual_productivity: ', mean(ap_sum, ap_len))\n",
    "print('Mean of over_time: ', mean(ot_sum, ot_len))\n",
    "print('Mean of incentive: ', mean(inc_sum, inc_len))"
   ]
  },
  {
   "cell_type": "code",
   "execution_count": 6,
   "metadata": {},
   "outputs": [],
   "source": [
    "# Sort for median\n",
    "tp_data = tp_data.sort_values(ascending=True)\n",
    "ap_data = ap_data.sort_values(ascending=True)\n",
    "ot_data = ot_data.sort_values(ascending=True)\n",
    "inc_data = inc_data.sort_values(ascending=True)"
   ]
  },
  {
   "cell_type": "code",
   "execution_count": 7,
   "metadata": {},
   "outputs": [
    {
     "name": "stdout",
     "output_type": "stream",
     "text": [
      "Median of targeted_productivity:  0.6\n",
      "Median of actual_productivity:  0.415172414\n",
      "Median of over_time:  6960\n",
      "Median of incentive:  0\n"
     ]
    }
   ],
   "source": [
    "# Median\n",
    "def median(data, data_len):\n",
    "    if data_len % 2 == 0:\n",
    "        median1 = data[data_len//2] \n",
    "        median2 = data[data_len//2 - 1] \n",
    "        median = (median1 + median2)/2\n",
    "    else:\n",
    "        median = data[data_len//2] \n",
    "    return median\n",
    "    \n",
    "print('Median of targeted_productivity: ', median(tp_data, tp_len))\n",
    "print('Median of actual_productivity: ', median(ap_data, ap_len))\n",
    "print('Median of over_time: ', median(ot_data, ot_len))\n",
    "print('Median of incentive: ', median(inc_data, inc_len))"
   ]
  },
  {
   "cell_type": "code",
   "execution_count": 8,
   "metadata": {},
   "outputs": [
    {
     "name": "stdout",
     "output_type": "stream",
     "text": [
      "Mode of targeted_productivity: [0.8]\n",
      "Mode of actual_productivity: [0.800401961]\n",
      "Mode of over_time: [960]\n",
      "Mode of incentive: [0]\n"
     ]
    }
   ],
   "source": [
    "# Mode\n",
    "def mode(col_data):\n",
    "   data = collections.Counter(col_data)\n",
    "   data_dict = dict(data)\n",
    "   max_freq = max(list(data.values()))\n",
    "   mode_val = [num for num, freq in data_dict.items() if freq == max_freq]\n",
    "   if len(mode_val) == len(col_data):\n",
    "      print(\"No mode\")\n",
    "   else:\n",
    "      return mode_val\n",
    "      \n",
    "print(\"Mode of targeted_productivity:\", mode(tp_data))\n",
    "print(\"Mode of actual_productivity:\", mode(ap_data))\n",
    "print(\"Mode of over_time:\", mode(ot_data))\n",
    "print(\"Mode of incentive:\", mode(inc_data))"
   ]
  },
  {
   "cell_type": "code",
   "execution_count": 9,
   "metadata": {},
   "outputs": [
    {
     "name": "stdout",
     "output_type": "stream",
     "text": [
      "Range of targeted_productivity: (0.07, 0.8)\n",
      "Range of actual_productivity: (0.233705476, 1.1204375)\n",
      "Range of over_time: (0, 25920)\n",
      "Range of incentive: (0, 3600)\n"
     ]
    }
   ],
   "source": [
    "# Range\n",
    "def dataset_range(data):\n",
    "    ub = max(data)\n",
    "    lb = min(data)\n",
    "    return(lb,ub)\n",
    "\n",
    "print(\"Range of targeted_productivity:\", dataset_range(tp_data))\n",
    "print(\"Range of actual_productivity:\", dataset_range(ap_data))\n",
    "print(\"Range of over_time:\", dataset_range(ot_data))\n",
    "print(\"Range of incentive:\", dataset_range(inc_data))"
   ]
  },
  {
   "cell_type": "code",
   "execution_count": 10,
   "metadata": {},
   "outputs": [
    {
     "name": "stdout",
     "output_type": "stream",
     "text": [
      "Summary of targeted_productivity: (0.07, 0.7, 0.75, 0.8, 0.8)\n",
      "Summary of actual_productivity: (0.233705476, 0.650307143, 0.773333333, 0.850252525, 1.1204375)\n",
      "Summary of over_time: (0, 1440, 3960, 6960, 25920)\n",
      "Summary of incentive: (0, 0, 0, 50, 3600)\n"
     ]
    }
   ],
   "source": [
    "# 5 number summary\n",
    "# min, q1, median, q3, max\n",
    "def numb_summary(data, data_len):\n",
    "    sorted_data = sorted(data)\n",
    "    ub = max(data)\n",
    "    lb = min(data)\n",
    "    data_median = median(sorted_data, data_len)\n",
    "    q1_position = int(0.25 * data_len)\n",
    "    q3_position = int(0.75 * data_len)\n",
    "    q1 = sorted_data[q1_position]\n",
    "    q3 = sorted_data[q3_position]\n",
    "    return(lb, q1, data_median, q3, ub)\n",
    "\n",
    "print(\"Summary of targeted_productivity:\", numb_summary(tp_data, tp_len))\n",
    "print(\"Summary of actual_productivity:\", numb_summary(ap_data, ap_len))\n",
    "print(\"Summary of over_time:\", numb_summary(ot_data, ot_len))\n",
    "print(\"Summary of incentive:\", numb_summary(inc_data, inc_len))"
   ]
  },
  {
   "cell_type": "code",
   "execution_count": 11,
   "metadata": {},
   "outputs": [
    {
     "name": "stdout",
     "output_type": "stream",
     "text": [
      "Outliers of targeted_productivity: 633     0.07\n",
      "685     0.35\n",
      "259     0.35\n",
      "961     0.35\n",
      "239     0.35\n",
      "        ... \n",
      "1124    0.50\n",
      "515     0.50\n",
      "821     0.50\n",
      "969     0.50\n",
      "503     0.50\n",
      "Name: targeted_productivity, Length: 79, dtype: float64\n",
      "Outliers of actual_productivity: 147     0.233705\n",
      "317     0.235795\n",
      "765     0.238042\n",
      "215     0.246250\n",
      "258     0.247316\n",
      "863     0.249417\n",
      "843     0.251399\n",
      "842     0.256500\n",
      "802     0.258000\n",
      "497     0.259375\n",
      "579     0.260979\n",
      "415     0.261174\n",
      "1086    0.263694\n",
      "1149    0.264062\n",
      "921     0.268214\n",
      "984     0.271875\n",
      "963     0.271875\n",
      "1127    0.271875\n",
      "691     0.272000\n",
      "578     0.280333\n",
      "784     0.283054\n",
      "883     0.283958\n",
      "496     0.285333\n",
      "541     0.286985\n",
      "783     0.287042\n",
      "577     0.295308\n",
      "822     0.302117\n",
      "1046    0.302770\n",
      "841     0.303574\n",
      "882     0.307501\n",
      "1045    0.309333\n",
      "257     0.311207\n",
      "298     0.313853\n",
      "560     0.314167\n",
      "920     0.325000\n",
      "392     0.327407\n",
      "840     0.328132\n",
      "436     0.329545\n",
      "801     0.329965\n",
      "125     0.330114\n",
      "1067    0.332146\n",
      "256     0.332359\n",
      "169     0.337973\n",
      "1024    0.342361\n",
      "60      0.345833\n",
      "146     0.349951\n",
      "414     0.349990\n",
      "255     0.350031\n",
      "455     0.350067\n",
      "237     0.350206\n",
      "336     0.350218\n",
      "690     0.350302\n",
      "689     0.350302\n",
      "748     0.350302\n",
      "Name: actual_productivity, dtype: float64\n",
      "Outliers of over_time: 146    25920\n",
      "Name: over_time, dtype: int64\n",
      "Outliers of incentive: 730      138\n",
      "1138     960\n",
      "1139     960\n",
      "1148     960\n",
      "1149     960\n",
      "1128     960\n",
      "1129    1080\n",
      "1143    1200\n",
      "1137    1440\n",
      "1130    2880\n",
      "1133    3600\n",
      "Name: incentive, dtype: int64\n"
     ]
    }
   ],
   "source": [
    "# Outliers\n",
    "def outliers(data, data_len):\n",
    "    sorted_data = sorted(data)\n",
    "    q1_position = int(0.25 * data_len)\n",
    "    q3_position = int(0.75 * data_len)\n",
    "    q1 = sorted_data[q1_position]\n",
    "    q3 = sorted_data[q3_position]\n",
    "    IQR=q3-q1\n",
    "    outliers = data[((data<(q1-1.5*IQR)) | (data>(q3+1.5*IQR)))]\n",
    "    return outliers\n",
    "print(\"Outliers of targeted_productivity:\", outliers(tp_data, tp_len))\n",
    "print(\"Outliers of actual_productivity:\", outliers(ap_data, ap_len))\n",
    "print(\"Outliers of over_time:\", outliers(ot_data, ot_len))\n",
    "print(\"Outliers of incentive:\", outliers(inc_data, inc_len))"
   ]
  },
  {
   "cell_type": "code",
   "execution_count": 12,
   "metadata": {},
   "outputs": [
    {
     "name": "stdout",
     "output_type": "stream",
     "text": [
      "Skewness of targeted_productivity: is negatively skewed with value = -2.1441500332521986\n",
      "Skewness of actual_productivity: is negatively skewed with value = -0.8074917745097558\n",
      "Skewness of over_time: is postively skewed with value = 0.6732872952976456\n",
      "Skewness of incentive: is postively skewed with value = 15.790746016958247\n"
     ]
    }
   ],
   "source": [
    "# # Symmetric or Skewed\n",
    "def skewed(data):\n",
    "    skew_val = skew(data, axis=0, bias=False)\n",
    "    if skew_val > 0:\n",
    "        return \"is postively skewed with value = \" + str(skew_val)\n",
    "    elif skew_val < 0:\n",
    "        return \"is negatively skewed with value = \" + str(skew_val)\n",
    "    elif skew_val == 0:\n",
    "        return \"is normally distributed with value = \" + str(skew_val)\n",
    "    \n",
    "print(\"Skewness of targeted_productivity:\", skewed(tp_data))\n",
    "print(\"Skewness of actual_productivity:\",  skewed(ap_data))\n",
    "print(\"Skewness of over_time:\",  skewed(ot_data))\n",
    "print(\"Skewness of incentive:\",  skewed(inc_data))"
   ]
  },
  {
   "cell_type": "code",
   "execution_count": 13,
   "metadata": {},
   "outputs": [
    {
     "data": {
      "image/png": "[encoded data removed]",
      "text/plain": [
       "<Figure size 640x480 with 1 Axes>"
      ]
     },
     "metadata": {},
     "output_type": "display_data"
    }
   ],
   "source": [
    "# Boxplot\n",
    "plt.boxplot(tp_data)\n",
    "plt.title('targeted_productivity')\n",
    "plt.show()\n"
   ]
  },
  {
   "cell_type": "code",
   "execution_count": 14,
   "metadata": {},
   "outputs": [
    {
     "data": {
      "text/plain": [
       "Text(0.5, 1.0, 'actual_productivity')"
      ]
     },
     "execution_count": 14,
     "metadata": {},
     "output_type": "execute_result"
    },
    {
     "data": {
      "image/png": "[encoded data removed]",
      "text/plain": [
       "<Figure size 640x480 with 1 Axes>"
      ]
     },
     "metadata": {},
     "output_type": "display_data"
    }
   ],
   "source": [
    "plt.boxplot(ap_data)\n",
    "plt.title('actual_productivity')"
   ]
  },
  {
   "cell_type": "code",
   "execution_count": 15,
   "metadata": {},
   "outputs": [
    {
     "data": {
      "text/plain": [
       "Text(0.5, 1.0, 'over_time')"
      ]
     },
     "execution_count": 15,
     "metadata": {},
     "output_type": "execute_result"
    },
    {
     "data": {
      "image/png": "[encoded data removed]",
      "text/plain": [
       "<Figure size 640x480 with 1 Axes>"
      ]
     },
     "metadata": {},
     "output_type": "display_data"
    }
   ],
   "source": [
    "plt.boxplot(ot_data)\n",
    "plt.title('over_time')"
   ]
  },
  {
   "cell_type": "code",
   "execution_count": 16,
   "metadata": {},
   "outputs": [
    {
     "data": {
      "text/plain": [
       "Text(0.5, 1.0, 'incentive')"
      ]
     },
     "execution_count": 16,
     "metadata": {},
     "output_type": "execute_result"
    },
    {
     "data": {
      "image/png": "[encoded data removed]",
      "text/plain": [
       "<Figure size 640x480 with 1 Axes>"
      ]
     },
     "metadata": {},
     "output_type": "display_data"
    }
   ],
   "source": [
    "plt.boxplot(inc_data)\n",
    "plt.title('incentive')"
   ]
  }
 ],
 "metadata": {
  "kernelspec": {
   "display_name": "Python 3",
   "language": "python",
   "name": "python3"
  },
  "language_info": {
   "codemirror_mode": {
    "name": "ipython",
    "version": 3
   },
   "file_extension": ".py",
   "mimetype": "text/x-python",
   "name": "python",
   "nbconvert_exporter": "python",
   "pygments_lexer": "ipython3",
   "version": "3.11.4"
  }
 },
 "nbformat": 4,
 "nbformat_minor": 2
}
