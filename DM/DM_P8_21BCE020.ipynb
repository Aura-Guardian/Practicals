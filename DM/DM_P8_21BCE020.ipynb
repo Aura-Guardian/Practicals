{
 "cells": [
  {
   "cell_type": "markdown",
   "metadata": {},
   "source": [
    "### DBLP Dataset\n",
    "\n",
    "---"
   ]
  },
  {
   "cell_type": "code",
   "execution_count": 2,
   "metadata": {},
   "outputs": [
    {
     "name": "stdout",
     "output_type": "stream",
     "text": [
      "Skipping, found downloaded files in \"./dblp-authors-dataset\" (use force=True to force download)\n"
     ]
    }
   ],
   "source": [
    "import opendatasets\n",
    "opendatasets.download('https://www.kaggle.com/datasets/daniyalshaiq/dblp-authors-dataset')"
   ]
  },
  {
   "cell_type": "code",
   "execution_count": 3,
   "metadata": {},
   "outputs": [],
   "source": [
    "import pandas as pd\n",
    "data = pd.read_csv('/Users/azimtheba/College/SEM VI/Practicals/DM/dblp-authors-dataset/final.csv')\n",
    "data = data.head(40)"
   ]
  },
  {
   "cell_type": "code",
   "execution_count": 4,
   "metadata": {},
   "outputs": [],
   "source": [
    "author = data['author']\n",
    "conf = data['conference']"
   ]
  },
  {
   "cell_type": "code",
   "execution_count": 5,
   "metadata": {},
   "outputs": [
    {
     "data": {
      "text/plain": [
       "0                'Anau Mesui\n",
       "1            'Yinka Oyerinde\n",
       "2               A'fza Shafie\n",
       "3            A'lishia Bowman\n",
       "4                  A'na Wang\n",
       "5     A'zraa Afhzan Ab Rahim\n",
       "6          A. A. Pukhal'skii\n",
       "7               A. Al-Ta'ani\n",
       "8           A. B. Ugol'nikov\n",
       "9             A. D'Agapayeff\n",
       "10              A. D'Alascio\n",
       "11           A. D'Alessandro\n",
       "12                A. D'Amico\n",
       "13     A. D'Arminio Monforte\n",
       "14                 A. D'Orta\n",
       "15             A. Dell'Accio\n",
       "16             A. Dell'Acqua\n",
       "17             A. Dell'Aglio\n",
       "18              A. Dell'Arte\n",
       "19             A. G. O'Neill\n",
       "20           A. I. Acil'diev\n",
       "21            A. K. B. A'ain\n",
       "22               A. L'Abbate\n",
       "23                A. M'Hamed\n",
       "24                  A. M'zah\n",
       "25             A. M. Gil'man\n",
       "26                   A. Noe'\n",
       "27                A. O'Brien\n",
       "28               A. O'Conner\n",
       "29              A. O'Doherty\n",
       "30                 A. O'Hare\n",
       "31                A. O'Neill\n",
       "32        A. Okassa-M'foubat\n",
       "33               A. R. Vin'a\n",
       "34           A. S. Narin'ani\n",
       "35                A. d'Ussel\n",
       "36            A. van't Hooft\n",
       "37               Aad 't Hart\n",
       "38             Aaron D'Souza\n",
       "39         Abbie O'Gallagher\n",
       "Name: author, dtype: object"
      ]
     },
     "execution_count": 5,
     "metadata": {},
     "output_type": "execute_result"
    }
   ],
   "source": [
    "author"
   ]
  },
  {
   "cell_type": "code",
   "execution_count": 6,
   "metadata": {},
   "outputs": [
    {
     "data": {
      "text/plain": [
       "0                            ['ICT4D']\n",
       "1                ['CONF-IRM', 'ICT4D']\n",
       "2                           ['NGMAST']\n",
       "3                             ['GHTC']\n",
       "4            ['IIKI', 'CWSN', 'COCOA']\n",
       "5                           ['CICSYN']\n",
       "6                      ['PERFORMANCE']\n",
       "7                             ['ICNS']\n",
       "8                              ['FCT']\n",
       "9                             ['ICSE']\n",
       "10                            ['PCFD']\n",
       "11                           ['ISSCC']\n",
       "12                   ['SWAP', 'IWASI']\n",
       "13                             ['MIE']\n",
       "14                           ['IMACS']\n",
       "15                         ['EGITALY']\n",
       "16                             ['DFT']\n",
       "17                              ['DH']\n",
       "18                         ['EUROSIM']\n",
       "19                           ['ISCAS']\n",
       "20                            ['IFIP']\n",
       "21                    ['VLSID', 'ATS']\n",
       "22                            ['PSCC']\n",
       "23                            ['CIIA']\n",
       "24                            ['3DIC']\n",
       "25                            ['IFIP']\n",
       "26                            ['EUCC']\n",
       "27                       ['ADAEUROPE']\n",
       "28                            ['JCDL']\n",
       "29                           ['MAMMO']\n",
       "30                             ['OFC']\n",
       "31                         ['ESSDERC']\n",
       "32               ['GLOBECOM', 'ICUMT']\n",
       "33                        ['FRACTALS']\n",
       "34                            ['IFIP']\n",
       "35                           ['IWCMC']\n",
       "36                         ['MEDINFO']\n",
       "37                            ['ICSM']\n",
       "38    ['IROS', 'ICML', 'NIPS', 'ICRA']\n",
       "39                            ['PPSC']\n",
       "Name: conference, dtype: object"
      ]
     },
     "execution_count": 6,
     "metadata": {},
     "output_type": "execute_result"
    }
   ],
   "source": [
    "conf"
   ]
  },
  {
   "cell_type": "code",
   "execution_count": 7,
   "metadata": {},
   "outputs": [
    {
     "data": {
      "text/plain": [
       "[[\"'Anau Mesui\", ['ICT4D']],\n",
       " [\"'Yinka Oyerinde\", ['CONF-IRM', 'ICT4D']],\n",
       " [\"A'fza Shafie\", ['NGMAST']],\n",
       " [\"A'lishia Bowman\", ['GHTC']],\n",
       " [\"A'na Wang\", ['IIKI', 'CWSN', 'COCOA']],\n",
       " [\"A'zraa Afhzan Ab Rahim\", ['CICSYN']],\n",
       " [\"A. A. Pukhal'skii\", ['PERFORMANCE']],\n",
       " [\"A. Al-Ta'ani\", ['ICNS']],\n",
       " [\"A. B. Ugol'nikov\", ['FCT']],\n",
       " [\"A. D'Agapayeff\", ['ICSE']],\n",
       " [\"A. D'Alascio\", ['PCFD']],\n",
       " [\"A. D'Alessandro\", ['ISSCC']],\n",
       " [\"A. D'Amico\", ['SWAP', 'IWASI']],\n",
       " [\"A. D'Arminio Monforte\", ['MIE']],\n",
       " [\"A. D'Orta\", ['IMACS']],\n",
       " [\"A. Dell'Accio\", ['EGITALY']],\n",
       " [\"A. Dell'Acqua\", ['DFT']],\n",
       " [\"A. Dell'Aglio\", ['DH']],\n",
       " [\"A. Dell'Arte\", ['EUROSIM']],\n",
       " [\"A. G. O'Neill\", ['ISCAS']],\n",
       " [\"A. I. Acil'diev\", ['IFIP']],\n",
       " [\"A. K. B. A'ain\", ['VLSID', 'ATS']],\n",
       " [\"A. L'Abbate\", ['PSCC']],\n",
       " [\"A. M'Hamed\", ['CIIA']],\n",
       " [\"A. M'zah\", ['3DIC']],\n",
       " [\"A. M. Gil'man\", ['IFIP']],\n",
       " [\"A. Noe'\", ['EUCC']],\n",
       " [\"A. O'Brien\", ['ADAEUROPE']],\n",
       " [\"A. O'Conner\", ['JCDL']],\n",
       " [\"A. O'Doherty\", ['MAMMO']],\n",
       " [\"A. O'Hare\", ['OFC']],\n",
       " [\"A. O'Neill\", ['ESSDERC']],\n",
       " [\"A. Okassa-M'foubat\", ['GLOBECOM', 'ICUMT']],\n",
       " [\"A. R. Vin'a\", ['FRACTALS']],\n",
       " [\"A. S. Narin'ani\", ['IFIP']],\n",
       " [\"A. d'Ussel\", ['IWCMC']],\n",
       " [\"A. van't Hooft\", ['MEDINFO']],\n",
       " [\"Aad 't Hart\", ['ICSM']],\n",
       " [\"Aaron D'Souza\", ['IROS', 'ICML', 'NIPS', 'ICRA']],\n",
       " [\"Abbie O'Gallagher\", ['PPSC']]]"
      ]
     },
     "execution_count": 7,
     "metadata": {},
     "output_type": "execute_result"
    }
   ],
   "source": [
    "import ast\n",
    "df = pd.DataFrame({'author': author, 'conference': conf})\n",
    "\n",
    "transactions = []\n",
    "for i, row in df.iterrows():\n",
    "    author_name = row['author']\n",
    "    conferences = ast.literal_eval(row['conference'])\n",
    "    transactions.append([author_name, conferences])\n",
    "\n",
    "transactions"
   ]
  },
  {
   "cell_type": "code",
   "execution_count": 8,
   "metadata": {},
   "outputs": [
    {
     "name": "stdout",
     "output_type": "stream",
     "text": [
      "Unique Itemset\n",
      "['3DIC', 'ADAEUROPE', 'ATS', 'CICSYN', 'CIIA', 'COCOA', 'CONF-IRM', 'CWSN', 'DFT', 'DH', 'EGITALY', 'ESSDERC', 'EUCC', 'EUROSIM', 'FCT', 'FRACTALS', 'GHTC', 'GLOBECOM', 'ICML', 'ICNS', 'ICRA', 'ICSE', 'ICSM', 'ICT4D', 'ICUMT', 'IFIP', 'IIKI', 'IMACS', 'IROS', 'ISCAS', 'ISSCC', 'IWASI', 'IWCMC', 'JCDL', 'MAMMO', 'MEDINFO', 'MIE', 'NGMAST', 'NIPS', 'OFC', 'PCFD', 'PERFORMANCE', 'PPSC', 'PSCC', 'SWAP', 'VLSID']\n"
     ]
    }
   ],
   "source": [
    "unique_items = []\n",
    "for i in transactions:\n",
    "    for j in i[1]:\n",
    "        if j not in unique_items:\n",
    "            unique_items.append(j)\n",
    "unique_items = sorted(unique_items)\n",
    "print(\"Unique Itemset\")\n",
    "print(unique_items)"
   ]
  },
  {
   "cell_type": "code",
   "execution_count": 9,
   "metadata": {},
   "outputs": [
    {
     "name": "stdout",
     "output_type": "stream",
     "text": [
      "Minimum Support Count is ->  2\n"
     ]
    }
   ],
   "source": [
    "min_sup = 2\n",
    "print(\"Minimum Support Count is -> \", min_sup)"
   ]
  },
  {
   "cell_type": "code",
   "execution_count": 10,
   "metadata": {},
   "outputs": [
    {
     "name": "stdout",
     "output_type": "stream",
     "text": [
      "C1:\n",
      "['3DIC'] -> 1\n",
      "['ADAEUROPE'] -> 1\n",
      "['ATS'] -> 1\n",
      "['CICSYN'] -> 1\n",
      "['CIIA'] -> 1\n",
      "['COCOA'] -> 1\n",
      "['CONF-IRM'] -> 1\n",
      "['CWSN'] -> 1\n",
      "['DFT'] -> 1\n",
      "['DH'] -> 1\n",
      "['EGITALY'] -> 1\n",
      "['ESSDERC'] -> 1\n",
      "['EUCC'] -> 1\n",
      "['EUROSIM'] -> 1\n",
      "['FCT'] -> 1\n",
      "['FRACTALS'] -> 1\n",
      "['GHTC'] -> 1\n",
      "['GLOBECOM'] -> 1\n",
      "['ICML'] -> 1\n",
      "['ICNS'] -> 1\n",
      "['ICRA'] -> 1\n",
      "['ICSE'] -> 1\n",
      "['ICSM'] -> 1\n",
      "['ICT4D'] -> 2\n",
      "['ICUMT'] -> 1\n",
      "['IFIP'] -> 3\n",
      "['IIKI'] -> 1\n",
      "['IMACS'] -> 1\n",
      "['IROS'] -> 1\n",
      "['ISCAS'] -> 1\n",
      "['ISSCC'] -> 1\n",
      "['IWASI'] -> 1\n",
      "['IWCMC'] -> 1\n",
      "['JCDL'] -> 1\n",
      "['MAMMO'] -> 1\n",
      "['MEDINFO'] -> 1\n",
      "['MIE'] -> 1\n",
      "['NGMAST'] -> 1\n",
      "['NIPS'] -> 1\n",
      "['OFC'] -> 1\n",
      "['PCFD'] -> 1\n",
      "['PERFORMANCE'] -> 1\n",
      "['PPSC'] -> 1\n",
      "['PSCC'] -> 1\n",
      "['SWAP'] -> 1\n",
      "['VLSID'] -> 1\n",
      "L1:\n",
      "['ICT4D'] -> 2\n",
      "['IFIP'] -> 3\n",
      "\n",
      "\n",
      "C2:\n",
      "['IFIP', 'ICT4D'] -> 0\n",
      "L2:\n",
      "\n",
      "\n",
      "Final Itemsets:\n",
      "L1:\n",
      "['ICT4D'] -> 2\n",
      "['IFIP'] -> 3\n"
     ]
    }
   ],
   "source": [
    "# Generate Itemsets\n",
    "from collections import Counter\n",
    "def generate_itemsets(dataset, unique_items):\n",
    "    C = Counter()\n",
    "    # 1 candidate itemset\n",
    "    for i in unique_items:\n",
    "        for j in dataset:\n",
    "            if i in j[1]: # iterate unique itemset and dataset to check if it exists\n",
    "                C[i] += 1\n",
    "    print(\"C1:\")\n",
    "    for i in C:\n",
    "        print(str([i]) + \" -> \" + str(C[i]))\n",
    "    L = Counter()\n",
    "    for i in C:\n",
    "        if C[i] >= min_sup:\n",
    "            L[frozenset([i])] += C[i]\n",
    "    print(\"L1:\")\n",
    "    for i in L:\n",
    "        print(str(list(i)) + \" -> \" + str(L[i]))\n",
    "    print(\"\\n\")\n",
    "    \n",
    "    # possible sets of items\n",
    "    final_itemset = L\n",
    "    set_no = 1\n",
    "    for count in range(2, 1000):\n",
    "        new_set = set()\n",
    "        u = list(L)\n",
    "        for i in range(0, len(u)):\n",
    "            for j in range(i + 1, len(u)):\n",
    "                new_set.add(u[i].union(u[j])) # create combination of current itemsets    \n",
    "        new_set = list(new_set)\n",
    "        \n",
    "        # n possible candidate itemsets\n",
    "        C = Counter()\n",
    "        for i in new_set:\n",
    "            C[i] = 0\n",
    "            for j in dataset:\n",
    "                u = set(j[1])\n",
    "                if i.issubset(u): # count occurence of each itemset and print\n",
    "                    C[i] += 1\n",
    "        if(len(C) == 0):\n",
    "            break\n",
    "        print(\"C\" + str(count) + \":\")\n",
    "        for i in C:\n",
    "            print(str(list(i)) + \" -> \" + str(C[i]))\n",
    "        L = Counter()\n",
    "        for i in C:\n",
    "            if C[i] >= min_sup: # filter out needed candidates\n",
    "                L[i] += C[i]\n",
    "        print(\"L\" + str(count) + \":\")\n",
    "        for i in L:\n",
    "            print(str(list(i)) + \" -> \" + str(L[i]))\n",
    "        print(\"\\n\") \n",
    "        if len(L) == 0:\n",
    "            break\n",
    "        final_itemset = L\n",
    "        set_no = count\n",
    "    print(\"Final Itemsets:\")\n",
    "    print(\"L\" + str(set_no) + \":\")\n",
    "    for i in final_itemset:\n",
    "        print(str(list(i)) + \" -> \" + str(final_itemset[i]))\n",
    "    return final_itemset\n",
    "final_itemset = generate_itemsets(transactions, unique_items)"
   ]
  },
  {
   "cell_type": "code",
   "execution_count": 11,
   "metadata": {},
   "outputs": [
    {
     "ename": "NameError",
     "evalue": "name 'combinations' is not defined",
     "output_type": "error",
     "traceback": [
      "\u001b[0;31m---------------------------------------------------------------------------\u001b[0m",
      "\u001b[0;31mNameError\u001b[0m                                 Traceback (most recent call last)",
      "Cell \u001b[0;32mIn[11], line 44\u001b[0m\n\u001b[1;32m     26\u001b[0m                 \u001b[38;5;28mprint\u001b[39m(\n\u001b[1;32m     27\u001b[0m                     \u001b[38;5;28mstr\u001b[39m(\u001b[38;5;28mlist\u001b[39m(a))\n\u001b[1;32m     28\u001b[0m                     \u001b[38;5;241m+\u001b[39m \u001b[38;5;124m\"\u001b[39m\u001b[38;5;124m -> \u001b[39m\u001b[38;5;124m\"\u001b[39m\n\u001b[0;32m   (...)\u001b[0m\n\u001b[1;32m     32\u001b[0m                     \u001b[38;5;241m+\u001b[39m \u001b[38;5;124m\"\u001b[39m\u001b[38;5;124m%\u001b[39m\u001b[38;5;124m\"\u001b[39m\n\u001b[1;32m     33\u001b[0m                 )\n\u001b[1;32m     34\u001b[0m                 \u001b[38;5;28mprint\u001b[39m(\n\u001b[1;32m     35\u001b[0m                     \u001b[38;5;28mstr\u001b[39m(\u001b[38;5;28mlist\u001b[39m(b))\n\u001b[1;32m     36\u001b[0m                     \u001b[38;5;241m+\u001b[39m \u001b[38;5;124m\"\u001b[39m\u001b[38;5;124m -> \u001b[39m\u001b[38;5;124m\"\u001b[39m\n\u001b[0;32m   (...)\u001b[0m\n\u001b[1;32m     40\u001b[0m                     \u001b[38;5;241m+\u001b[39m \u001b[38;5;124m\"\u001b[39m\u001b[38;5;124m%\u001b[39m\u001b[38;5;124m\"\u001b[39m\n\u001b[1;32m     41\u001b[0m                 )\n\u001b[0;32m---> 44\u001b[0m \u001b[43massociation_rules\u001b[49m\u001b[43m(\u001b[49m\u001b[43mfinal_itemset\u001b[49m\u001b[43m,\u001b[49m\u001b[43m \u001b[49m\u001b[38;5;241;43m0.4\u001b[39;49m\u001b[43m)\u001b[49m\n",
      "Cell \u001b[0;32mIn[11], line 3\u001b[0m, in \u001b[0;36massociation_rules\u001b[0;34m(Lk, min_conf)\u001b[0m\n\u001b[1;32m      1\u001b[0m \u001b[38;5;28;01mdef\u001b[39;00m \u001b[38;5;21massociation_rules\u001b[39m(Lk, min_conf):\n\u001b[1;32m      2\u001b[0m     \u001b[38;5;28;01mfor\u001b[39;00m i \u001b[38;5;129;01min\u001b[39;00m Lk:\n\u001b[0;32m----> 3\u001b[0m         c \u001b[38;5;241m=\u001b[39m [\u001b[38;5;28mfrozenset\u001b[39m(j) \u001b[38;5;28;01mfor\u001b[39;00m j \u001b[38;5;129;01min\u001b[39;00m \u001b[43mcombinations\u001b[49m(i, \u001b[38;5;28mlen\u001b[39m(i) \u001b[38;5;241m-\u001b[39m \u001b[38;5;241m1\u001b[39m)]\n\u001b[1;32m      4\u001b[0m         mmax \u001b[38;5;241m=\u001b[39m \u001b[38;5;241m0\u001b[39m\n\u001b[1;32m      5\u001b[0m         \u001b[38;5;28;01mfor\u001b[39;00m a \u001b[38;5;129;01min\u001b[39;00m c:\n",
      "\u001b[0;31mNameError\u001b[0m: name 'combinations' is not defined"
     ]
    }
   ],
   "source": [
    "def association_rules(Lk, min_conf):\n",
    "    for i in Lk:\n",
    "        c = [frozenset(j) for j in combinations(i, len(i) - 1)]\n",
    "        mmax = 0\n",
    "        for a in c:\n",
    "            b = i - a\n",
    "            ab = i\n",
    "            sab = 0\n",
    "            sa = 0\n",
    "            sb = 0\n",
    "            for j in dataset:\n",
    "                temp = set(j[1])\n",
    "                if a.issubset(temp):\n",
    "                    sa += 1\n",
    "                if b.issubset(temp):\n",
    "                    sb += 1\n",
    "                if ab.issubset(temp):\n",
    "                    sab += 1\n",
    "            temp = sab / sa * 100\n",
    "            if temp > mmax:\n",
    "                mmax = temp\n",
    "            temp = sab / sb * 100\n",
    "            if temp > mmax:\n",
    "                mmax = temp\n",
    "            if temp / 100 >= min_conf:\n",
    "                print(\n",
    "                    str(list(a))\n",
    "                    + \" -> \"\n",
    "                    + str(list(b))\n",
    "                    + \" = \"\n",
    "                    + str(sab / sa * 100)\n",
    "                    + \"%\"\n",
    "                )\n",
    "                print(\n",
    "                    str(list(b))\n",
    "                    + \" -> \"\n",
    "                    + str(list(a))\n",
    "                    + \" = \"\n",
    "                    + str(sab / sb * 100)\n",
    "                    + \"%\"\n",
    "                )\n",
    "\n",
    "\n",
    "association_rules(final_itemset, 0.4)"
   ]
  }
 ],
 "metadata": {
  "kernelspec": {
   "display_name": "Python 3",
   "language": "python",
   "name": "python3"
  },
  "language_info": {
   "codemirror_mode": {
    "name": "ipython",
    "version": 3
   },
   "file_extension": ".py",
   "mimetype": "text/x-python",
   "name": "python",
   "nbconvert_exporter": "python",
   "pygments_lexer": "ipython3",
   "version": "3.11.4"
  }
 },
 "nbformat": 4,
 "nbformat_minor": 2
}
