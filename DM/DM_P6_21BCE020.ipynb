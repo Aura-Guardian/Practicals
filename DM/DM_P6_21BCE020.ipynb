{
 "cells": [
  {
   "cell_type": "markdown",
   "metadata": {},
   "source": [
    "### Dimensionality Reduction - Principal Component Analysis\n",
    "---"
   ]
  },
  {
   "cell_type": "code",
   "execution_count": 2,
   "metadata": {},
   "outputs": [],
   "source": [
    "import pandas as pd\n",
    "import numpy as np\n",
    "\n",
    "data = pd.read_csv('test2.csv')\n",
    "data.head()\n",
    "df = pd.DataFrame(data)"
   ]
  },
  {
   "cell_type": "code",
   "execution_count": 3,
   "metadata": {},
   "outputs": [
    {
     "name": "stdout",
     "output_type": "stream",
     "text": [
      "Covariance Matrix:  [[14.0, -11.0], [-11.0, 23.0]]\n"
     ]
    }
   ],
   "source": [
    "# Step 1 & 2 - Find Mean and Covariance Matrix\n",
    "# p = 1/N-1 * Σ * (Xi - X') * (Yj - Y')\n",
    "\n",
    "X = df['A']\n",
    "Y = df['B']\n",
    "\n",
    "def covariance(X,Y):\n",
    "\tmean_X = sum(X) / float(len(X))\n",
    "\tmean_Y = sum(Y) / float(len(Y))\n",
    "\tsum_X = [i - mean_X for i in X]\n",
    "\tsum_Y = [i - mean_Y for i in Y]\n",
    "\tsum_value = sum([sum_Y[i] * sum_X[i] for i in range(len(X))])\n",
    "\tN = float(len(X)-1)\n",
    "\tcov_cov_matrix = sum_value/N\n",
    "\tcov_cov_matrix = np.round(cov_cov_matrix, 2)\n",
    "\treturn cov_cov_matrix\n",
    "\n",
    "def covariance_cov_matrix(arr):\n",
    "\tres = [[covariance(x, y) for x in arr] for y in arr]\n",
    "\treturn res\n",
    "\n",
    "COV = np.array([X,Y]) \n",
    "cov_mat = covariance_cov_matrix(COV)\n",
    "print(\"Covariance Matrix: \", cov_mat)"
   ]
  },
  {
   "cell_type": "code",
   "execution_count": 13,
   "metadata": {},
   "outputs": [
    {
     "name": "stdout",
     "output_type": "stream",
     "text": [
      "Eigen Value:  30.38\n",
      "Eigen Vectors:  [ 0.55738997 -0.83025082]\n"
     ]
    }
   ],
   "source": [
    "# Step 3 - Find Eigen Value and Eigen Vectors\n",
    "\n",
    "def eigen(cov_matrix, iter=1000):\n",
    "    n = cov_matrix.shape[0]\n",
    "    eigen_vectors = np.random.rand(n)\n",
    "    for _ in range(iter):\n",
    "        eigen_vectors = np.dot(cov_matrix, eigen_vectors)\n",
    "        eigen_vectors = eigen_vectors / np.linalg.norm(eigen_vectors)\n",
    "    eigen_value = np.dot(eigen_vectors, np.dot(cov_matrix, eigen_vectors))\n",
    "    eigen_value = np.round(eigen_value, 2)\n",
    "    # eigen_vectors = np.round(eigen_vectors, 2)\n",
    "    return eigen_value, eigen_vectors\n",
    "\n",
    "cov_matrix = np.array(cov_mat)\n",
    "eigen_value, eigen_vectors = eigen(cov_matrix)\n",
    "print(\"Eigen Value: \", eigen_value)\n",
    "print(\"Eigen Vectors: \", eigen_vectors)"
   ]
  },
  {
   "cell_type": "code",
   "execution_count": 14,
   "metadata": {},
   "outputs": [
    {
     "name": "stdout",
     "output_type": "stream",
     "text": [
      "Normalized Eigen Vector 1:  [ 0.5574 -0.8303]\n",
      "Normalized Eigen Vector 2:  [-0.8303  0.5574]\n"
     ]
    }
   ],
   "source": [
    "# Step 4 - Normalize Vectors\n",
    "\n",
    "U1 = eigen_vectors[0]\n",
    "U2 = eigen_vectors[1]\n",
    "normalized_U1 = np.round(U1 / np.sqrt(pow(U1, 2) + pow(U2, 2)), 4)\n",
    "normalized_U2 = np.round(U2 / np.sqrt(pow(U1, 2) + pow(U2, 2)), 4)\n",
    "E1 = np.array([normalized_U1, normalized_U2])\n",
    "E2 = np.array([normalized_U2, normalized_U1])\n",
    "print(\"Normalized Eigen Vector 1: \", E1)\n",
    "print(\"Normalized Eigen Vector 2: \", E2)"
   ]
  },
  {
   "cell_type": "code",
   "execution_count": 15,
   "metadata": {},
   "outputs": [
    {
     "data": {
      "text/plain": [
       "-4.305350000000001"
      ]
     },
     "execution_count": 15,
     "metadata": {},
     "output_type": "execute_result"
    }
   ],
   "source": [
    "# Step 5 - Find Principal Component\n",
    "def principal_component(X, Y, E, i, j):\n",
    "    mean_X = sum(X) / float(len(X))\n",
    "    mean_Y = sum(Y) / float(len(Y))\n",
    "    PC = np.dot(E.T, [X[i] - mean_X, Y[j] - mean_Y])\n",
    "    return PC\n",
    "i = int(input(\"Enter which X value is to be used: \"))\n",
    "j = int(input(\"Enter which Y value is to be used: \"))\n",
    "principal_component(X, Y, E1, i, j)"
   ]
  }
 ],
 "metadata": {
  "kernelspec": {
   "display_name": "Python 3",
   "language": "python",
   "name": "python3"
  },
  "language_info": {
   "codemirror_mode": {
    "name": "ipython",
    "version": 3
   },
   "file_extension": ".py",
   "mimetype": "text/x-python",
   "name": "python",
   "nbconvert_exporter": "python",
   "pygments_lexer": "ipython3",
   "version": "3.12.2"
  }
 },
 "nbformat": 4,
 "nbformat_minor": 2
}
