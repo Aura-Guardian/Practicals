{
 "cells": [
  {
   "cell_type": "markdown",
   "metadata": {},
   "source": [
    "### Apriori Method\n",
    "\n",
    "---\n"
   ]
  },
  {
   "cell_type": "code",
   "execution_count": 47,
   "metadata": {},
   "outputs": [],
   "source": [
    "from collections import Counter\n",
    "import numpy as np\n",
    "from itertools import combinations\n",
    "import pandas as pd"
   ]
  },
  {
   "cell_type": "code",
   "execution_count": 48,
   "metadata": {},
   "outputs": [
    {
     "data": {
      "text/plain": [
       "array(['sweing', 'finishing ', 'finishing'], dtype=object)"
      ]
     },
     "execution_count": 48,
     "metadata": {},
     "output_type": "execute_result"
    }
   ],
   "source": [
    "dataset = pd.read_csv('garments_worker_productivity.csv')\n",
    "dataset['department'].unique()"
   ]
  },
  {
   "cell_type": "code",
   "execution_count": 49,
   "metadata": {},
   "outputs": [],
   "source": [
    "dataset = [\n",
    "    [\"T100\", [\"I1\", \"I2\", \"I5\"]],\n",
    "    [\"T200\", [\"I2\", \"I4\"]],\n",
    "    [\"T300\", [\"I2\", \"I3\"]],\n",
    "    [\"T400\", [\"I1\", \"I2\", \"I4\"]],\n",
    "    [\"T500\", [\"I1\", \"I3\"]],\n",
    "    [\"T600\", [\"I2\", \"I3\"]],\n",
    "    [\"T700\", [\"I1\", \"I3\"]],\n",
    "    [\"T800\", [\"I1\", \"I2\", \"I3\", \"I5\"]],\n",
    "    [\"T900\", [\"I1\", \"I2\", \"I3\"]],\n",
    "]"
   ]
  },
  {
   "cell_type": "code",
   "execution_count": 50,
   "metadata": {},
   "outputs": [
    {
     "name": "stdout",
     "output_type": "stream",
     "text": [
      "Unique Itemset\n",
      "['I1', 'I2', 'I3', 'I4', 'I5']\n"
     ]
    }
   ],
   "source": [
    "# Find List of Unique Items\n",
    "unique_items = []\n",
    "for i in dataset:\n",
    "    for j in i[1]:\n",
    "        if j not in unique_items:\n",
    "            unique_items.append(j)\n",
    "unique_items = sorted(unique_items)\n",
    "print(\"Unique Itemset\")\n",
    "print(unique_items)"
   ]
  },
  {
   "cell_type": "code",
   "execution_count": 51,
   "metadata": {},
   "outputs": [
    {
     "name": "stdout",
     "output_type": "stream",
     "text": [
      "Minimum Support Count is ->  2\n"
     ]
    }
   ],
   "source": [
    "# Find Minimum Support Count\n",
    "support_percentage = 0.5  # 50%\n",
    "min_sup = int(support_percentage * len(unique_items))\n",
    "print(\"Minimum Support Count is -> \", min_sup)"
   ]
  },
  {
   "cell_type": "code",
   "execution_count": 52,
   "metadata": {},
   "outputs": [
    {
     "name": "stdout",
     "output_type": "stream",
     "text": [
      "C1:\n",
      "['I1'] -> 6\n",
      "['I2'] -> 7\n",
      "['I3'] -> 6\n",
      "['I4'] -> 2\n",
      "['I5'] -> 2\n",
      "L1:\n",
      "['I1'] -> 6\n",
      "['I2'] -> 7\n",
      "['I3'] -> 6\n",
      "['I4'] -> 2\n",
      "['I5'] -> 2\n",
      "\n",
      "\n",
      "C2:\n",
      "['I4', 'I3'] -> 0\n",
      "['I4', 'I2'] -> 2\n",
      "['I1', 'I4'] -> 1\n",
      "['I2', 'I3'] -> 4\n",
      "['I5', 'I2'] -> 2\n",
      "['I5', 'I3'] -> 1\n",
      "['I1', 'I2'] -> 4\n",
      "['I1', 'I5'] -> 2\n",
      "['I5', 'I4'] -> 0\n",
      "['I1', 'I3'] -> 4\n",
      "L2:\n",
      "['I4', 'I2'] -> 2\n",
      "['I2', 'I3'] -> 4\n",
      "['I5', 'I2'] -> 2\n",
      "['I1', 'I2'] -> 4\n",
      "['I1', 'I5'] -> 2\n",
      "['I1', 'I3'] -> 4\n",
      "\n",
      "\n",
      "C3:\n",
      "['I5', 'I4', 'I2'] -> 0\n",
      "['I1', 'I5', 'I4', 'I2'] -> 0\n",
      "['I1', 'I4', 'I2', 'I3'] -> 0\n",
      "['I4', 'I2', 'I3'] -> 0\n",
      "['I1', 'I4', 'I2'] -> 1\n",
      "['I1', 'I5', 'I2', 'I3'] -> 1\n",
      "['I1', 'I5', 'I3'] -> 1\n",
      "['I1', 'I2', 'I3'] -> 2\n",
      "['I5', 'I2', 'I3'] -> 1\n",
      "['I1', 'I5', 'I2'] -> 2\n",
      "L3:\n",
      "['I1', 'I2', 'I3'] -> 2\n",
      "['I1', 'I5', 'I2'] -> 2\n",
      "\n",
      "\n",
      "C4:\n",
      "['I5', 'I2', 'I1', 'I3'] -> 1\n",
      "L4:\n",
      "\n",
      "\n",
      "Final Itemsets:\n",
      "L3:\n",
      "['I1', 'I2', 'I3'] -> 2\n",
      "['I1', 'I5', 'I2'] -> 2\n"
     ]
    }
   ],
   "source": [
    "# Generate Itemsets\n",
    "def generate_itemsets(dataset, unique_items):\n",
    "    C = Counter()\n",
    "    # 1 candidate itemset\n",
    "    for i in unique_items:\n",
    "        for j in dataset:\n",
    "            if i in j[1]: # iterate unique itemset and dataset to check if it exists\n",
    "                C[i] += 1\n",
    "    print(\"C1:\")\n",
    "    for i in C:\n",
    "        print(str([i]) + \" -> \" + str(C[i]))\n",
    "    L = Counter()\n",
    "    for i in C:\n",
    "        if C[i] >= min_sup:\n",
    "            L[frozenset([i])] += C[i]\n",
    "    print(\"L1:\")\n",
    "    for i in L:\n",
    "        print(str(list(i)) + \" -> \" + str(L[i]))\n",
    "    print(\"\\n\")\n",
    "    \n",
    "    # possible sets of items\n",
    "    final_itemset = L\n",
    "    set_no = 1\n",
    "    for count in range(2, 1000):\n",
    "        new_set = set()\n",
    "        u = list(L)\n",
    "        for i in range(0, len(u)):\n",
    "            for j in range(i + 1, len(u)):\n",
    "                new_set.add(u[i].union(u[j])) # create combination of current itemsets    \n",
    "        new_set = list(new_set)\n",
    "        \n",
    "        # n possible candidate itemsets\n",
    "        C = Counter()\n",
    "        for i in new_set:\n",
    "            C[i] = 0\n",
    "            for j in dataset:\n",
    "                u = set(j[1])\n",
    "                if i.issubset(u): # count occurence of each itemset and print\n",
    "                    C[i] += 1\n",
    "        if(len(C) == 0):\n",
    "            break\n",
    "        print(\"C\" + str(count) + \":\")\n",
    "        for i in C:\n",
    "            print(str(list(i)) + \" -> \" + str(C[i]))\n",
    "        L = Counter()\n",
    "        for i in C:\n",
    "            if C[i] >= min_sup: # filter out needed candidates\n",
    "                L[i] += C[i]\n",
    "        print(\"L\" + str(count) + \":\")\n",
    "        for i in L:\n",
    "            print(str(list(i)) + \" -> \" + str(L[i]))\n",
    "        print(\"\\n\") \n",
    "        if len(L) == 0:\n",
    "            break\n",
    "        final_itemset = L\n",
    "        set_no = count\n",
    "    print(\"Final Itemsets:\")\n",
    "    print(\"L\" + str(set_no) + \":\")\n",
    "    for i in final_itemset:\n",
    "        print(str(list(i)) + \" -> \" + str(final_itemset[i]))\n",
    "    return final_itemset\n",
    "final_itemset = generate_itemsets(dataset, unique_items)"
   ]
  },
  {
   "cell_type": "code",
   "execution_count": 53,
   "metadata": {},
   "outputs": [
    {
     "name": "stdout",
     "output_type": "stream",
     "text": [
      "Minimum Confidence is ->  0.4\n"
     ]
    }
   ],
   "source": [
    "# Find Minimum Confidence\n",
    "min_conf_percent = 0.4  # 40%\n",
    "print(\"Minimum Confidence is -> \", min_conf_percent)"
   ]
  },
  {
   "cell_type": "code",
   "execution_count": 55,
   "metadata": {},
   "outputs": [
    {
     "name": "stdout",
     "output_type": "stream",
     "text": [
      "['I1', 'I2'] -> ['I3'] = 50.0%\n",
      "['I3'] -> ['I1', 'I2'] = 33.33333333333333%\n",
      "['I1', 'I3'] -> ['I2'] = 50.0%\n",
      "['I2'] -> ['I1', 'I3'] = 28.57142857142857%\n",
      "['I2', 'I3'] -> ['I1'] = 50.0%\n",
      "['I1'] -> ['I2', 'I3'] = 33.33333333333333%\n",
      "['I1', 'I5'] -> ['I2'] = 100.0%\n",
      "['I2'] -> ['I1', 'I5'] = 28.57142857142857%\n",
      "['I1', 'I2'] -> ['I5'] = 50.0%\n",
      "['I5'] -> ['I1', 'I2'] = 100.0%\n",
      "['I5', 'I2'] -> ['I1'] = 100.0%\n",
      "['I1'] -> ['I5', 'I2'] = 33.33333333333333%\n"
     ]
    }
   ],
   "source": [
    "for l in final_itemset:\n",
    "    c = [frozenset(q) for q in combinations(l,len(l)-1)]\n",
    "    mmax = 0\n",
    "    for a in c:\n",
    "        b = l-a\n",
    "        ab = l\n",
    "        sab = 0\n",
    "        sa = 0\n",
    "        sb = 0\n",
    "        for q in dataset:\n",
    "            temp = set(q[1])\n",
    "            if(a.issubset(temp)):\n",
    "                sa+=1\n",
    "            if(b.issubset(temp)):\n",
    "                sb+=1\n",
    "            if(ab.issubset(temp)):\n",
    "                sab+=1\n",
    "        temp = sab/sa*100\n",
    "        if(temp > mmax):\n",
    "            mmax = temp\n",
    "        temp = sab/sb*100\n",
    "        if(temp > mmax):\n",
    "            mmax = temp\n",
    "        print(str(list(a))+\" -> \"+str(list(b))+\" = \"+str(sab/sa*100)+\"%\")\n",
    "        print(str(list(b))+\" -> \"+str(list(a))+\" = \"+str(sab/sb*100)+\"%\")"
   ]
  }
 ],
 "metadata": {
  "kernelspec": {
   "display_name": "Python 3",
   "language": "python",
   "name": "python3"
  },
  "language_info": {
   "codemirror_mode": {
    "name": "ipython",
    "version": 3
   },
   "file_extension": ".py",
   "mimetype": "text/x-python",
   "name": "python",
   "nbconvert_exporter": "python",
   "pygments_lexer": "ipython3",
   "version": "3.11.4"
  }
 },
 "nbformat": 4,
 "nbformat_minor": 2
}
